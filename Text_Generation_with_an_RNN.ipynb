{
  "nbformat": 4,
  "nbformat_minor": 0,
  "metadata": {
    "colab": {
      "provenance": [],
      "authorship_tag": "ABX9TyO1bbTrgUSiGpfkIRa+fP90",
      "include_colab_link": true
    },
    "kernelspec": {
      "name": "python3",
      "display_name": "Python 3"
    },
    "language_info": {
      "name": "python"
    }
  },
  "cells": [
    {
      "cell_type": "markdown",
      "metadata": {
        "id": "view-in-github",
        "colab_type": "text"
      },
      "source": [
        "<a href=\"https://colab.research.google.com/github/rubensolano2/GUIDES-AND-PRACTICES/blob/main/Text_Generation_with_an_RNN.ipynb\" target=\"_parent\"><img src=\"https://colab.research.google.com/assets/colab-badge.svg\" alt=\"Open In Colab\"/></a>"
      ]
    },
    {
      "cell_type": "markdown",
      "source": [
        "#OPTIMIZACIÓN DE LOS MODELOS DE LENGUAJE"
      ],
      "metadata": {
        "id": "WBY89w5GrSqX"
      }
    },
    {
      "cell_type": "markdown",
      "source": [
        "El modelo llama se ha probado con diferente cantidad de Parametros:\n",
        "\n",
        "de 7 a 65B de parametros"
      ],
      "metadata": {
        "id": "P14h95-Huf9Q"
      }
    },
    {
      "cell_type": "markdown",
      "source": [
        "consiguiendo mejores resultados en su modelos 13B mejores que gpt3 siendo 10 veces mas pequeño"
      ],
      "metadata": {
        "id": "fTxpt3CRurkQ"
      }
    },
    {
      "cell_type": "markdown",
      "source": [
        "En su modelo de 65B ha conseguido igualar o superar a los grandes modelos de Lenguajes actuales"
      ],
      "metadata": {
        "id": "rJ4Sgq_xu0LQ"
      }
    },
    {
      "cell_type": "markdown",
      "source": [
        "Los datos son los disponibles en varias páginas y no tiene nada de interesante"
      ],
      "metadata": {
        "id": "xOiP6sF6v5LA"
      }
    },
    {
      "cell_type": "markdown",
      "source": [
        "#Arquitecturas"
      ],
      "metadata": {
        "id": "kAmvTgQmvxYA"
      }
    },
    {
      "cell_type": "markdown",
      "source": [
        "#Generación de texto con un RNN"
      ],
      "metadata": {
        "id": "qAzVnaILES1B"
      }
    },
    {
      "cell_type": "markdown",
      "source": [
        "##CONFIGURACIÓN"
      ],
      "metadata": {
        "id": "JtTVCEiksrKn"
      }
    },
    {
      "cell_type": "markdown",
      "source": [
        "LIBRERIAS"
      ],
      "metadata": {
        "id": "xg09A-qvxs7p"
      }
    },
    {
      "cell_type": "code",
      "source": [
        "import tensorflow as tf\n",
        "import numpy as np\n",
        "import os\n",
        "import time"
      ],
      "metadata": {
        "id": "dtBWJgcYsrpf"
      },
      "execution_count": null,
      "outputs": []
    },
    {
      "cell_type": "markdown",
      "source": [
        "DATASET"
      ],
      "metadata": {
        "id": "tTcq1OYxxuNh"
      }
    },
    {
      "cell_type": "code",
      "source": [
        "path_to_file = tf.keras.utils.get_file('shakespeare.txt', 'https://storage.googleapis.com/download.tensorflow.org/data/shakespeare.txt')"
      ],
      "metadata": {
        "colab": {
          "base_uri": "https://localhost:8080/"
        },
        "id": "530q2aH2xrDL",
        "outputId": "74c3afdc-0f9a-4772-ae4a-75274cd9974e"
      },
      "execution_count": null,
      "outputs": [
        {
          "output_type": "stream",
          "name": "stdout",
          "text": [
            "Downloading data from https://storage.googleapis.com/download.tensorflow.org/data/shakespeare.txt\n",
            "1115394/1115394 [==============================] - 0s 0us/step\n"
          ]
        }
      ]
    },
    {
      "cell_type": "markdown",
      "source": [
        "LEER LOS DATOS"
      ],
      "metadata": {
        "id": "5p2hb2Xgx1jB"
      }
    },
    {
      "cell_type": "code",
      "source": [
        "# Read, then decode for py2 compat.\n",
        "text = open(path_to_file, 'rb').read().decode(encoding='utf-8')\n",
        "# length of text is the number of characters in it\n",
        "print(f'Length of text: {len(text)} characters')"
      ],
      "metadata": {
        "colab": {
          "base_uri": "https://localhost:8080/"
        },
        "id": "k1cMsXXzx2yx",
        "outputId": "2eccfaf1-adda-49e1-b9c9-8cb6469096aa"
      },
      "execution_count": null,
      "outputs": [
        {
          "output_type": "stream",
          "name": "stdout",
          "text": [
            "Length of text: 1115394 characters\n"
          ]
        }
      ]
    },
    {
      "cell_type": "code",
      "source": [
        "# Take a look at the first 250 characters in text\n",
        "print(text[:250])"
      ],
      "metadata": {
        "colab": {
          "base_uri": "https://localhost:8080/"
        },
        "id": "z5kPQtC7x9gZ",
        "outputId": "2665cf9e-49d7-4c2a-d452-c5e33c32903b"
      },
      "execution_count": null,
      "outputs": [
        {
          "output_type": "stream",
          "name": "stdout",
          "text": [
            "First Citizen:\n",
            "Before we proceed any further, hear me speak.\n",
            "\n",
            "All:\n",
            "Speak, speak.\n",
            "\n",
            "First Citizen:\n",
            "You are all resolved rather to die than to famish?\n",
            "\n",
            "All:\n",
            "Resolved. resolved.\n",
            "\n",
            "First Citizen:\n",
            "First, you know Caius Marcius is chief enemy to the people.\n",
            "\n"
          ]
        }
      ]
    },
    {
      "cell_type": "code",
      "source": [
        "# The unique characters in the file\n",
        "vocab = sorted(set(text))\n",
        "print(f'{len(vocab)} unique characters')"
      ],
      "metadata": {
        "colab": {
          "base_uri": "https://localhost:8080/"
        },
        "id": "uPj-LRX8yAri",
        "outputId": "8030ca6f-8d4a-43ce-baaf-1bd0aca38c9a"
      },
      "execution_count": null,
      "outputs": [
        {
          "output_type": "stream",
          "name": "stdout",
          "text": [
            "65 unique characters\n"
          ]
        }
      ]
    },
    {
      "cell_type": "markdown",
      "source": [
        "##PROCESAR EL TEXTO"
      ],
      "metadata": {
        "id": "HjJ17aD6yCrS"
      }
    },
    {
      "cell_type": "markdown",
      "source": [
        "###VECTORIZAR EL TEXTO"
      ],
      "metadata": {
        "id": "BR_ABwM3yG76"
      }
    },
    {
      "cell_type": "markdown",
      "source": [
        "Antes del entrenamiento, debe convertir las cadenas en una representación numérica.\n",
        "\n",
        "La capa tf.keras.layers.StringLookup puede convertir cada carácter en un ID numérico. Solo necesita que el texto se divida en tokens primero."
      ],
      "metadata": {
        "id": "cndxEQ0qyJUS"
      }
    },
    {
      "cell_type": "code",
      "source": [
        "example_texts = ['abcdefg', 'xyz']\n",
        "\n",
        "chars = tf.strings.unicode_split(example_texts, input_encoding='UTF-8')\n",
        "chars"
      ],
      "metadata": {
        "colab": {
          "base_uri": "https://localhost:8080/"
        },
        "id": "c5tya92XyEaK",
        "outputId": "20007be0-2d07-4c35-c026-cead604abf27"
      },
      "execution_count": null,
      "outputs": [
        {
          "output_type": "execute_result",
          "data": {
            "text/plain": [
              "<tf.RaggedTensor [[b'a', b'b', b'c', b'd', b'e', b'f', b'g'], [b'x', b'y', b'z']]>"
            ]
          },
          "metadata": {},
          "execution_count": 9
        }
      ]
    },
    {
      "cell_type": "markdown",
      "source": [
        "Ahora cree la capa tf.keras.layers.StringLookup :"
      ],
      "metadata": {
        "id": "H9ZnPzD1yOdy"
      }
    },
    {
      "cell_type": "code",
      "source": [
        "ids_from_chars = tf.keras.layers.StringLookup(\n",
        "    vocabulary=list(vocab), mask_token=None)"
      ],
      "metadata": {
        "id": "Q28dhE-9yPLK"
      },
      "execution_count": null,
      "outputs": []
    },
    {
      "cell_type": "markdown",
      "source": [
        "Se convierte de tokens a identificaciones de personajes:"
      ],
      "metadata": {
        "id": "UnWO9xljx86h"
      }
    },
    {
      "cell_type": "code",
      "source": [
        "ids = ids_from_chars(chars)\n",
        "ids"
      ],
      "metadata": {
        "colab": {
          "base_uri": "https://localhost:8080/"
        },
        "id": "O6AqRLS0ySry",
        "outputId": "c15e3685-2293-4a1a-b696-9e42c7aa7e71"
      },
      "execution_count": null,
      "outputs": [
        {
          "output_type": "execute_result",
          "data": {
            "text/plain": [
              "<tf.RaggedTensor [[40, 41, 42, 43, 44, 45, 46], [63, 64, 65]]>"
            ]
          },
          "metadata": {},
          "execution_count": 11
        }
      ]
    },
    {
      "cell_type": "markdown",
      "source": [
        "Dado que el objetivo de este tutorial es generar texto, también será importante invertir esta representación y recuperar cadenas legibles por humanos a partir de ella. Para esto, puede usar tf.keras.layers.StringLookup(..., invert=True) ."
      ],
      "metadata": {
        "id": "cHLcHsJlyYcS"
      }
    },
    {
      "cell_type": "markdown",
      "source": [
        "- Nota: Aquí, en lugar de pasar el vocabulario original generado con sorted(set(text)) use el método get_vocabulary() de la capa tf.keras.layers.StringLookup para que los tokens [UNK] se configuren de la misma manera."
      ],
      "metadata": {
        "id": "HHvGDy0XycT6"
      }
    },
    {
      "cell_type": "code",
      "source": [
        "chars_from_ids = tf.keras.layers.StringLookup(\n",
        "    vocabulary=ids_from_chars.get_vocabulary(), invert=True, mask_token=None)"
      ],
      "metadata": {
        "id": "_YH-yRhryfty"
      },
      "execution_count": null,
      "outputs": []
    },
    {
      "cell_type": "markdown",
      "source": [
        "Esta capa recupera los caracteres de los vectores de ID y los devuelve como un tf.RaggedTensor de caracteres:"
      ],
      "metadata": {
        "id": "YZ8HGE_0yh6y"
      }
    },
    {
      "cell_type": "code",
      "source": [
        "chars = chars_from_ids(ids)\n",
        "chars"
      ],
      "metadata": {
        "colab": {
          "base_uri": "https://localhost:8080/"
        },
        "id": "WECqyoksyi6a",
        "outputId": "aafad5e9-8890-4bc1-99ed-3c59b6cd5062"
      },
      "execution_count": null,
      "outputs": [
        {
          "output_type": "execute_result",
          "data": {
            "text/plain": [
              "<tf.RaggedTensor [[b'a', b'b', b'c', b'd', b'e', b'f', b'g'], [b'x', b'y', b'z']]>"
            ]
          },
          "metadata": {},
          "execution_count": 13
        }
      ]
    },
    {
      "cell_type": "markdown",
      "source": [
        "Puede tf.strings.reduce_join para volver a unir los caracteres en cadenas."
      ],
      "metadata": {
        "id": "Dr0Bng4iyl-q"
      }
    },
    {
      "cell_type": "code",
      "source": [
        "tf.strings.reduce_join(chars, axis=-1).numpy()"
      ],
      "metadata": {
        "colab": {
          "base_uri": "https://localhost:8080/"
        },
        "id": "bwCr_cE3ym_K",
        "outputId": "3b851908-7a77-4e22-de84-c0c58dd5dfbf"
      },
      "execution_count": null,
      "outputs": [
        {
          "output_type": "execute_result",
          "data": {
            "text/plain": [
              "array([b'abcdefg', b'xyz'], dtype=object)"
            ]
          },
          "metadata": {},
          "execution_count": 14
        }
      ]
    },
    {
      "cell_type": "code",
      "source": [
        "def text_from_ids(ids):\n",
        "  return tf.strings.reduce_join(chars_from_ids(ids), axis=-1)"
      ],
      "metadata": {
        "id": "VD3QeAgUyoWK"
      },
      "execution_count": null,
      "outputs": []
    },
    {
      "cell_type": "markdown",
      "source": [
        "La tarea de predicción"
      ],
      "metadata": {
        "id": "IjLLEfgu0dTJ"
      }
    },
    {
      "cell_type": "markdown",
      "source": [
        "\n",
        "Dado un carácter, o una secuencia de caracteres, ¿cuál es el próximo carácter más probable? Esta es la tarea para la que está entrenando al modelo. La entrada al modelo será una secuencia de caracteres, y usted entrena el modelo para predecir la salida: el siguiente carácter en cada paso de tiempo.\n",
        "\n",
        "Dado que los RNN mantienen un estado interno que depende de los elementos vistos anteriormente, dados todos los caracteres computados hasta este momento, ¿cuál es el siguiente carácter?\n",
        "\n"
      ],
      "metadata": {
        "id": "T43gE6jk0O8c"
      }
    },
    {
      "cell_type": "markdown",
      "source": [
        "Cree ejemplos y objetivos de capacitación"
      ],
      "metadata": {
        "id": "T7KsEsOO0ax4"
      }
    },
    {
      "cell_type": "markdown",
      "source": [
        "\n",
        "A continuación, divida el texto en secuencias de ejemplo. Cada secuencia de entrada contendrá caracteres seq_length del texto.\n",
        "\n",
        "Para cada secuencia de entrada, los objetivos correspondientes contienen la misma longitud de texto, excepto que se desplaza un carácter a la derecha.\n",
        "\n",
        "Así que divide el texto en partes de seq_length+1 . Por ejemplo, digamos que seq_length es 4 y nuestro texto es \"Hola\". La secuencia de entrada sería \"Hell\" y la secuencia de destino \"ello\".\n",
        "\n",
        "Para hacer esto, primero use la función tf.data.Dataset.from_tensor_slices para convertir el vector de texto en una secuencia de índices de caracteres."
      ],
      "metadata": {
        "id": "9atLT8xd0Znh"
      }
    },
    {
      "cell_type": "code",
      "source": [
        "all_ids = ids_from_chars(tf.strings.unicode_split(text, 'UTF-8'))\n",
        "all_ids"
      ],
      "metadata": {
        "colab": {
          "base_uri": "https://localhost:8080/"
        },
        "id": "ONevsgcZ0g0R",
        "outputId": "82b78e64-8b9f-4f08-80a1-b40427c4f89b"
      },
      "execution_count": null,
      "outputs": [
        {
          "output_type": "execute_result",
          "data": {
            "text/plain": [
              "<tf.Tensor: shape=(1115394,), dtype=int64, numpy=array([19, 48, 57, ..., 46,  9,  1])>"
            ]
          },
          "metadata": {},
          "execution_count": 16
        }
      ]
    },
    {
      "cell_type": "code",
      "source": [
        "ids_dataset = tf.data.Dataset.from_tensor_slices(all_ids)"
      ],
      "metadata": {
        "id": "6P_koS0C0io5"
      },
      "execution_count": null,
      "outputs": []
    },
    {
      "cell_type": "code",
      "source": [
        "for ids in ids_dataset.take(10):\n",
        "    print(chars_from_ids(ids).numpy().decode('utf-8'))"
      ],
      "metadata": {
        "colab": {
          "base_uri": "https://localhost:8080/"
        },
        "id": "qimPW80U0j7h",
        "outputId": "190ec680-e66e-4238-be67-53a14fd0a415"
      },
      "execution_count": null,
      "outputs": [
        {
          "output_type": "stream",
          "name": "stdout",
          "text": [
            "F\n",
            "i\n",
            "r\n",
            "s\n",
            "t\n",
            " \n",
            "C\n",
            "i\n",
            "t\n",
            "i\n"
          ]
        }
      ]
    },
    {
      "cell_type": "code",
      "source": [
        "seq_length = 100\n",
        "examples_per_epoch = len(text)//(seq_length+1)"
      ],
      "metadata": {
        "id": "9908HN7_0mG7"
      },
      "execution_count": null,
      "outputs": []
    },
    {
      "cell_type": "markdown",
      "source": [
        "El método por batch le permite convertir fácilmente estos caracteres individuales en secuencias del tamaño deseado."
      ],
      "metadata": {
        "id": "VK1g2S3V0oSK"
      }
    },
    {
      "cell_type": "code",
      "source": [
        "sequences = ids_dataset.batch(seq_length+1, drop_remainder=True)\n",
        "\n",
        "for seq in sequences.take(1):\n",
        "  print(chars_from_ids(seq))"
      ],
      "metadata": {
        "colab": {
          "base_uri": "https://localhost:8080/"
        },
        "id": "_hJGKjW40o_L",
        "outputId": "30329388-d37e-4f75-a129-c5b7acbca571"
      },
      "execution_count": null,
      "outputs": [
        {
          "output_type": "stream",
          "name": "stdout",
          "text": [
            "tf.Tensor(\n",
            "[b'F' b'i' b'r' b's' b't' b' ' b'C' b'i' b't' b'i' b'z' b'e' b'n' b':'\n",
            " b'\\n' b'B' b'e' b'f' b'o' b'r' b'e' b' ' b'w' b'e' b' ' b'p' b'r' b'o'\n",
            " b'c' b'e' b'e' b'd' b' ' b'a' b'n' b'y' b' ' b'f' b'u' b'r' b't' b'h'\n",
            " b'e' b'r' b',' b' ' b'h' b'e' b'a' b'r' b' ' b'm' b'e' b' ' b's' b'p'\n",
            " b'e' b'a' b'k' b'.' b'\\n' b'\\n' b'A' b'l' b'l' b':' b'\\n' b'S' b'p' b'e'\n",
            " b'a' b'k' b',' b' ' b's' b'p' b'e' b'a' b'k' b'.' b'\\n' b'\\n' b'F' b'i'\n",
            " b'r' b's' b't' b' ' b'C' b'i' b't' b'i' b'z' b'e' b'n' b':' b'\\n' b'Y'\n",
            " b'o' b'u' b' '], shape=(101,), dtype=string)\n"
          ]
        }
      ]
    },
    {
      "cell_type": "markdown",
      "source": [
        "Es más fácil ver qué está haciendo esto si vuelve a unir los tokens en cadenas:"
      ],
      "metadata": {
        "id": "CRT5EUlm0rOT"
      }
    },
    {
      "cell_type": "code",
      "source": [
        "for seq in sequences.take(5):\n",
        "  print(text_from_ids(seq).numpy())"
      ],
      "metadata": {
        "colab": {
          "base_uri": "https://localhost:8080/"
        },
        "id": "lC9Jggr_0r1b",
        "outputId": "4a9ef7eb-2453-4d84-c3ea-8b3061b63a63"
      },
      "execution_count": null,
      "outputs": [
        {
          "output_type": "stream",
          "name": "stdout",
          "text": [
            "b'First Citizen:\\nBefore we proceed any further, hear me speak.\\n\\nAll:\\nSpeak, speak.\\n\\nFirst Citizen:\\nYou '\n",
            "b'are all resolved rather to die than to famish?\\n\\nAll:\\nResolved. resolved.\\n\\nFirst Citizen:\\nFirst, you k'\n",
            "b\"now Caius Marcius is chief enemy to the people.\\n\\nAll:\\nWe know't, we know't.\\n\\nFirst Citizen:\\nLet us ki\"\n",
            "b\"ll him, and we'll have corn at our own price.\\nIs't a verdict?\\n\\nAll:\\nNo more talking on't; let it be d\"\n",
            "b'one: away, away!\\n\\nSecond Citizen:\\nOne word, good citizens.\\n\\nFirst Citizen:\\nWe are accounted poor citi'\n"
          ]
        }
      ]
    },
    {
      "cell_type": "markdown",
      "source": [
        "Para el entrenamiento, necesitará un conjunto de datos de (input, label) pares. Donde input y label son secuencias. En cada paso de tiempo, la entrada es el carácter actual y la etiqueta es el siguiente carácter.\n",
        "\n",
        "Aquí hay una función que toma una secuencia como entrada, la duplica y la cambia para alinear la entrada y la etiqueta para cada paso de tiempo:"
      ],
      "metadata": {
        "id": "UJvjdhnK0uA7"
      }
    },
    {
      "cell_type": "code",
      "source": [
        "def split_input_target(sequence):\n",
        "    input_text = sequence[:-1]\n",
        "    target_text = sequence[1:]\n",
        "    return input_text, target_text"
      ],
      "metadata": {
        "id": "g7wINVU00vFD"
      },
      "execution_count": null,
      "outputs": []
    },
    {
      "cell_type": "code",
      "source": [
        "split_input_target(list(\"Tensorflow\"))"
      ],
      "metadata": {
        "colab": {
          "base_uri": "https://localhost:8080/"
        },
        "id": "h1dYQZAU0wKb",
        "outputId": "12b051b0-2f97-47dd-cc0b-09ea953f2998"
      },
      "execution_count": null,
      "outputs": [
        {
          "output_type": "execute_result",
          "data": {
            "text/plain": [
              "(['T', 'e', 'n', 's', 'o', 'r', 'f', 'l', 'o'],\n",
              " ['e', 'n', 's', 'o', 'r', 'f', 'l', 'o', 'w'])"
            ]
          },
          "metadata": {},
          "execution_count": 23
        }
      ]
    },
    {
      "cell_type": "code",
      "source": [
        "dataset = sequences.map(split_input_target)"
      ],
      "metadata": {
        "id": "umJMepY00yub"
      },
      "execution_count": null,
      "outputs": []
    },
    {
      "cell_type": "code",
      "source": [
        "for input_example, target_example in dataset.take(1):\n",
        "    print(\"Input :\", text_from_ids(input_example).numpy())\n",
        "    print(\"Target:\", text_from_ids(target_example).numpy())"
      ],
      "metadata": {
        "colab": {
          "base_uri": "https://localhost:8080/"
        },
        "id": "SAE6LCIZ00Bs",
        "outputId": "63ecb1ae-5a0b-4ea2-8fd9-89b398a80dd9"
      },
      "execution_count": null,
      "outputs": [
        {
          "output_type": "stream",
          "name": "stdout",
          "text": [
            "Input : b'First Citizen:\\nBefore we proceed any further, hear me speak.\\n\\nAll:\\nSpeak, speak.\\n\\nFirst Citizen:\\nYou'\n",
            "Target: b'irst Citizen:\\nBefore we proceed any further, hear me speak.\\n\\nAll:\\nSpeak, speak.\\n\\nFirst Citizen:\\nYou '\n"
          ]
        }
      ]
    },
    {
      "cell_type": "markdown",
      "source": [
        "Crear lotes de entrenamiento"
      ],
      "metadata": {
        "id": "pBl1Q3uS02zc"
      }
    },
    {
      "cell_type": "markdown",
      "source": [
        "Usó tf.data para dividir el texto en secuencias manejables. Pero antes de introducir estos datos en el modelo, debe mezclar los datos y empaquetarlos en lotes."
      ],
      "metadata": {
        "id": "fNJ0mD5k03QM"
      }
    },
    {
      "cell_type": "code",
      "source": [
        "# Batch size\n",
        "BATCH_SIZE = 64\n",
        "\n",
        "# Buffer size to shuffle the dataset\n",
        "# (TF data is designed to work with possibly infinite sequences,\n",
        "# so it doesn't attempt to shuffle the entire sequence in memory. Instead,\n",
        "# it maintains a buffer in which it shuffles elements).\n",
        "BUFFER_SIZE = 10000\n",
        "\n",
        "dataset = (\n",
        "    dataset\n",
        "    .shuffle(BUFFER_SIZE)\n",
        "    .batch(BATCH_SIZE, drop_remainder=True)\n",
        "    .prefetch(tf.data.experimental.AUTOTUNE))\n",
        "\n",
        "dataset"
      ],
      "metadata": {
        "colab": {
          "base_uri": "https://localhost:8080/"
        },
        "id": "ze3TUdkt0430",
        "outputId": "99bea8db-7963-4f1a-d985-8163a5a77905"
      },
      "execution_count": null,
      "outputs": [
        {
          "output_type": "execute_result",
          "data": {
            "text/plain": [
              "<PrefetchDataset element_spec=(TensorSpec(shape=(64, 100), dtype=tf.int64, name=None), TensorSpec(shape=(64, 100), dtype=tf.int64, name=None))>"
            ]
          },
          "metadata": {},
          "execution_count": 26
        }
      ]
    },
    {
      "cell_type": "markdown",
      "source": [
        "###construir el modelo"
      ],
      "metadata": {
        "id": "uKMOlycq07f0"
      }
    },
    {
      "cell_type": "markdown",
      "source": [
        "Esta sección define el modelo como una subclase keras.Model (para obtener más información, consulte Creación de nuevas capas y modelos a través de subclases ).\n",
        "\n",
        "Este modelo tiene tres capas:\n",
        "\n",
        "- tf.keras.layers.Embedding : La capa de entrada. Una tabla de búsqueda entrenable que asignará cada ID de carácter a un vector con dimensiones embedding_dim ;\n",
        "- tf.keras.layers.GRU : un tipo de RNN con units=rnn_units (también puede usar una capa LSTM aquí).\n",
        "- tf.keras.layers.Dense : la capa de salida, con salidas vocab_size . Produce un logit por cada carácter del vocabulario. Estos son el log-verosimilitud de cada carácter según el modelo."
      ],
      "metadata": {
        "id": "0JxqAXck09vE"
      }
    },
    {
      "cell_type": "code",
      "source": [
        "# Length of the vocabulary in chars\n",
        "vocab_size = len(vocab)\n",
        "\n",
        "# The embedding dimension\n",
        "embedding_dim = 256\n",
        "\n",
        "# Number of RNN units\n",
        "rnn_units = 1024"
      ],
      "metadata": {
        "id": "iEFFGz6Y1C2b"
      },
      "execution_count": null,
      "outputs": []
    },
    {
      "cell_type": "code",
      "source": [
        "class MyModel(tf.keras.Model):\n",
        "  def __init__(self, vocab_size, embedding_dim, rnn_units):\n",
        "    super().__init__(self)\n",
        "    self.embedding = tf.keras.layers.Embedding(vocab_size, embedding_dim)\n",
        "    self.gru = tf.keras.layers.GRU(rnn_units,\n",
        "                                   return_sequences=True,\n",
        "                                   return_state=True)\n",
        "    self.dense = tf.keras.layers.Dense(vocab_size)\n",
        "\n",
        "  def call(self, inputs, states=None, return_state=False, training=False):\n",
        "    x = inputs\n",
        "    x = self.embedding(x, training=training)\n",
        "    if states is None:\n",
        "      states = self.gru.get_initial_state(x)\n",
        "    x, states = self.gru(x, initial_state=states, training=training)\n",
        "    x = self.dense(x, training=training)\n",
        "\n",
        "    if return_state:\n",
        "      return x, states\n",
        "    else:\n",
        "      return x"
      ],
      "metadata": {
        "id": "dswYZz7A1D-7"
      },
      "execution_count": null,
      "outputs": []
    },
    {
      "cell_type": "code",
      "source": [
        "model = MyModel(\n",
        "    # Be sure the vocabulary size matches the `StringLookup` layers.\n",
        "    vocab_size=len(ids_from_chars.get_vocabulary()),\n",
        "    embedding_dim=embedding_dim,\n",
        "    rnn_units=rnn_units)"
      ],
      "metadata": {
        "id": "e6XwWBbo1FmE"
      },
      "execution_count": null,
      "outputs": []
    },
    {
      "cell_type": "markdown",
      "source": [
        "![image.png](data:image/png;base64,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)"
      ],
      "metadata": {
        "id": "yTQKFZs41Jls"
      }
    },
    {
      "cell_type": "markdown",
      "source": [
        "Prueba el modelo"
      ],
      "metadata": {
        "id": "f918cHnR1MuH"
      }
    },
    {
      "cell_type": "markdown",
      "source": [
        "Ahora ejecute el modelo para ver que se comporta como se esperaba.\n",
        "\n",
        "Primero verifique la forma de la salida:"
      ],
      "metadata": {
        "id": "5gIci8PA1OHU"
      }
    },
    {
      "cell_type": "code",
      "source": [
        "for input_example_batch, target_example_batch in dataset.take(1):\n",
        "    example_batch_predictions = model(input_example_batch)\n",
        "    print(example_batch_predictions.shape, \"# (batch_size, sequence_length, vocab_size)\")"
      ],
      "metadata": {
        "colab": {
          "base_uri": "https://localhost:8080/"
        },
        "id": "dcbLjn9G1Ovs",
        "outputId": "ec6b7f89-6c72-4202-e64a-f1b454998580"
      },
      "execution_count": null,
      "outputs": [
        {
          "output_type": "stream",
          "name": "stdout",
          "text": [
            "(64, 100, 66) # (batch_size, sequence_length, vocab_size)\n"
          ]
        }
      ]
    },
    {
      "cell_type": "markdown",
      "source": [
        "En el ejemplo anterior, la longitud de secuencia de la entrada es 100 , pero el modelo se puede ejecutar en entradas de cualquier longitud:"
      ],
      "metadata": {
        "id": "29CzVgYk1S30"
      }
    },
    {
      "cell_type": "code",
      "source": [
        "model.summary()"
      ],
      "metadata": {
        "colab": {
          "base_uri": "https://localhost:8080/"
        },
        "id": "Fr8RM3Jr1VOM",
        "outputId": "e028a0f8-b819-4849-933d-e3021c0b812b"
      },
      "execution_count": null,
      "outputs": [
        {
          "output_type": "stream",
          "name": "stdout",
          "text": [
            "Model: \"my_model\"\n",
            "_________________________________________________________________\n",
            " Layer (type)                Output Shape              Param #   \n",
            "=================================================================\n",
            " embedding (Embedding)       multiple                  16896     \n",
            "                                                                 \n",
            " gru (GRU)                   multiple                  3938304   \n",
            "                                                                 \n",
            " dense (Dense)               multiple                  67650     \n",
            "                                                                 \n",
            "=================================================================\n",
            "Total params: 4,022,850\n",
            "Trainable params: 4,022,850\n",
            "Non-trainable params: 0\n",
            "_________________________________________________________________\n"
          ]
        }
      ]
    },
    {
      "cell_type": "markdown",
      "source": [
        "Para obtener predicciones reales del modelo, debe muestrear la distribución de salida para obtener índices de caracteres reales. Esta distribución está definida por los logits sobre el vocabulario de caracteres."
      ],
      "metadata": {
        "id": "xdoFLnQp1ZSU"
      }
    },
    {
      "cell_type": "markdown",
      "source": [
        "Nota: es importante tomar muestras de esta distribución, ya que tomar el argmax de la distribución puede hacer que el modelo se atasque fácilmente en un bucle."
      ],
      "metadata": {
        "id": "r5BJWuSL1ZxU"
      }
    },
    {
      "cell_type": "markdown",
      "source": [
        "Pruébelo para el primer ejemplo en el lote:"
      ],
      "metadata": {
        "id": "qmsoJ-Da1bck"
      }
    },
    {
      "cell_type": "code",
      "source": [
        "sampled_indices = tf.random.categorical(example_batch_predictions[0], num_samples=1)\n",
        "sampled_indices = tf.squeeze(sampled_indices, axis=-1).numpy()"
      ],
      "metadata": {
        "id": "yaZXKK991cus"
      },
      "execution_count": null,
      "outputs": []
    },
    {
      "cell_type": "markdown",
      "source": [
        "Esto nos da, en cada paso de tiempo, una predicción del siguiente índice de caracteres:"
      ],
      "metadata": {
        "id": "prb-TrRK1f5s"
      }
    },
    {
      "cell_type": "code",
      "source": [
        "sampled_indices"
      ],
      "metadata": {
        "colab": {
          "base_uri": "https://localhost:8080/"
        },
        "id": "mgSY5f521ghF",
        "outputId": "54d9d3f4-c5ab-486a-e2ad-b6e9e296dfad"
      },
      "execution_count": null,
      "outputs": [
        {
          "output_type": "execute_result",
          "data": {
            "text/plain": [
              "array([34,  4,  8, 42,  0,  1, 15, 33, 14, 25, 36, 37, 37, 50, 61,  8, 37,\n",
              "       48, 54, 46, 50, 25, 45,  2, 44, 63, 63, 42, 15, 44, 45, 30, 12, 12,\n",
              "        3, 47, 24, 62, 45,  5, 14, 32,  5, 65, 49, 65, 33, 50, 14, 18, 24,\n",
              "       27, 54,  2,  1, 52, 59, 38, 20, 28, 64, 37, 28, 57, 43, 53, 45, 31,\n",
              "       45, 34, 54, 12, 22, 19, 29, 39, 49, 11, 53, 43,  2, 32, 18, 48, 39,\n",
              "        2, 52, 63, 62, 60,  3, 17, 63,  0, 30, 40, 61, 60, 45, 61])"
            ]
          },
          "metadata": {},
          "execution_count": 33
        }
      ]
    },
    {
      "cell_type": "markdown",
      "source": [
        "Decodifique estos para ver el texto predicho por este modelo no entrenado:"
      ],
      "metadata": {
        "id": "ig8S3qPy1jYk"
      }
    },
    {
      "cell_type": "code",
      "source": [
        "print(\"Input:\\n\", text_from_ids(input_example_batch[0]).numpy())\n",
        "print()\n",
        "print(\"Next Char Predictions:\\n\", text_from_ids(sampled_indices).numpy())"
      ],
      "metadata": {
        "colab": {
          "base_uri": "https://localhost:8080/"
        },
        "id": "C4H60nSL1kUW",
        "outputId": "d7ea51fa-cec9-4a3c-c3ef-b5416428e74f"
      },
      "execution_count": null,
      "outputs": [
        {
          "output_type": "stream",
          "name": "stdout",
          "text": [
            "Input:\n",
            " b\"thus have wrought you,--for the stone is mine--\\nI'ld not have show'd it.\\n\\nLEONTES:\\nDo not draw the c\"\n",
            "\n",
            "Next Char Predictions:\n",
            " b'U$-c[UNK]\\nBTALWXXkv-XiogkLf exxcBefQ;;!hKwf&AS&zjzTkAEKNo \\nmtYGOyXOrdnfRfUo;IFPZj:nd SEiZ mxwu!Dx[UNK]Qavufv'\n"
          ]
        }
      ]
    },
    {
      "cell_type": "markdown",
      "source": [
        "###entrenar al modelo"
      ],
      "metadata": {
        "id": "Hig7du_q1nzk"
      }
    },
    {
      "cell_type": "markdown",
      "source": [
        "En este punto, el problema se puede tratar como un problema de clasificación estándar. Dado el estado anterior de RNN y la entrada de este paso de tiempo, prediga la clase del siguiente carácter."
      ],
      "metadata": {
        "id": "bkwfD1eo13wW"
      }
    },
    {
      "cell_type": "markdown",
      "source": [
        "Adjunte un optimizador y una función de pérdida"
      ],
      "metadata": {
        "id": "QYP2ln_D15E1"
      }
    },
    {
      "cell_type": "markdown",
      "source": [
        "La función de pérdida estándar tf.keras.losses.sparse_categorical_crossentropy funciona en este caso porque se aplica en la última dimensión de las predicciones.\n",
        "\n",
        "Debido a que su modelo devuelve logits, debe configurar el indicador from_logits ."
      ],
      "metadata": {
        "id": "eBU_uK8d160N"
      }
    },
    {
      "cell_type": "code",
      "source": [
        "loss = tf.losses.SparseCategoricalCrossentropy(from_logits=True)"
      ],
      "metadata": {
        "id": "ZYX3GX_n18gk"
      },
      "execution_count": null,
      "outputs": []
    },
    {
      "cell_type": "code",
      "source": [
        "example_batch_mean_loss = loss(target_example_batch, example_batch_predictions)\n",
        "print(\"Prediction shape: \", example_batch_predictions.shape, \" # (batch_size, sequence_length, vocab_size)\")\n",
        "print(\"Mean loss:        \", example_batch_mean_loss)"
      ],
      "metadata": {
        "colab": {
          "base_uri": "https://localhost:8080/"
        },
        "id": "0S_5W4O91-QE",
        "outputId": "cd2c43f8-461a-4bf3-d1e9-2cd854889a1d"
      },
      "execution_count": null,
      "outputs": [
        {
          "output_type": "stream",
          "name": "stdout",
          "text": [
            "Prediction shape:  (64, 100, 66)  # (batch_size, sequence_length, vocab_size)\n",
            "Mean loss:         tf.Tensor(4.1890483, shape=(), dtype=float32)\n"
          ]
        }
      ]
    },
    {
      "cell_type": "markdown",
      "source": [
        "Un modelo recién inicializado no debería estar demasiado seguro de sí mismo, todos los logits de salida deberían tener magnitudes similares. Para confirmar esto puedes comprobar que la exponencial de la pérdida media es aproximadamente igual al tamaño del vocabulario. Una pérdida mucho mayor significa que el modelo está seguro de sus respuestas incorrectas y está mal inicializado:"
      ],
      "metadata": {
        "id": "Yo8CIgIU1_i8"
      }
    },
    {
      "cell_type": "code",
      "source": [
        "tf.exp(example_batch_mean_loss).numpy()"
      ],
      "metadata": {
        "colab": {
          "base_uri": "https://localhost:8080/"
        },
        "id": "H4MKsaOz2CrM",
        "outputId": "ae918115-ef20-48a9-b6c3-a7d1eeced7f6"
      },
      "execution_count": null,
      "outputs": [
        {
          "output_type": "execute_result",
          "data": {
            "text/plain": [
              "65.959984"
            ]
          },
          "metadata": {},
          "execution_count": 37
        }
      ]
    },
    {
      "cell_type": "markdown",
      "source": [
        "Configure el procedimiento de entrenamiento utilizando el método tf.keras.Model.compile . Utilice tf.keras.optimizers.Adam con argumentos predeterminados y la función de pérdida."
      ],
      "metadata": {
        "id": "5WxpxhYb2Qh0"
      }
    },
    {
      "cell_type": "code",
      "source": [
        "model.compile(optimizer='adam', loss=loss)"
      ],
      "metadata": {
        "id": "Iknblbob2RWs"
      },
      "execution_count": null,
      "outputs": []
    },
    {
      "cell_type": "markdown",
      "source": [
        "Configurar puntos de control"
      ],
      "metadata": {
        "id": "jL7rle6O2TIc"
      }
    },
    {
      "cell_type": "markdown",
      "source": [
        "Use un tf.keras.callbacks.ModelCheckpoint para asegurarse de que los puntos de control se guarden durante el entrenamiento:"
      ],
      "metadata": {
        "id": "PedItv1o2UyE"
      }
    },
    {
      "cell_type": "code",
      "source": [
        "# Directory where the checkpoints will be saved\n",
        "checkpoint_dir = './training_checkpoints'\n",
        "# Name of the checkpoint files\n",
        "checkpoint_prefix = os.path.join(checkpoint_dir, \"ckpt_{epoch}\")\n",
        "\n",
        "checkpoint_callback = tf.keras.callbacks.ModelCheckpoint(\n",
        "    filepath=checkpoint_prefix,\n",
        "    save_weights_only=True)"
      ],
      "metadata": {
        "id": "o0FNu1-r2WeE"
      },
      "execution_count": null,
      "outputs": []
    },
    {
      "cell_type": "markdown",
      "source": [
        "Ejecutar el entrenamiento"
      ],
      "metadata": {
        "id": "1fUsgmZN2ZRU"
      }
    },
    {
      "cell_type": "markdown",
      "source": [
        "Para mantener un tiempo de entrenamiento razonable, use 10 épocas para entrenar el modelo. En Colab, configure el tiempo de ejecución en GPU para un entrenamiento más rápido."
      ],
      "metadata": {
        "id": "1SLVLmPL2arc"
      }
    },
    {
      "cell_type": "code",
      "source": [
        "EPOCHS = 20"
      ],
      "metadata": {
        "id": "50ftjhEo2bUd"
      },
      "execution_count": null,
      "outputs": []
    },
    {
      "cell_type": "code",
      "source": [
        "history = model.fit(dataset, epochs=EPOCHS, callbacks=[checkpoint_callback])"
      ],
      "metadata": {
        "colab": {
          "base_uri": "https://localhost:8080/"
        },
        "id": "EmOzsj5I2ctd",
        "outputId": "9fbf5e68-1a6e-4e00-9a19-37bbfa47ff56"
      },
      "execution_count": null,
      "outputs": [
        {
          "output_type": "stream",
          "name": "stdout",
          "text": [
            "Epoch 1/20\n",
            "172/172 [==============================] - 15s 57ms/step - loss: 2.7045\n",
            "Epoch 2/20\n",
            "172/172 [==============================] - 11s 53ms/step - loss: 1.9819\n",
            "Epoch 3/20\n",
            "172/172 [==============================] - 11s 53ms/step - loss: 1.7053\n",
            "Epoch 4/20\n",
            "172/172 [==============================] - 16s 63ms/step - loss: 1.5473\n",
            "Epoch 5/20\n",
            "172/172 [==============================] - 14s 60ms/step - loss: 1.4488\n",
            "Epoch 6/20\n",
            "172/172 [==============================] - 13s 60ms/step - loss: 1.3829\n",
            "Epoch 7/20\n",
            "172/172 [==============================] - 13s 59ms/step - loss: 1.3304\n",
            "Epoch 8/20\n",
            "172/172 [==============================] - 14s 61ms/step - loss: 1.2859\n",
            "Epoch 9/20\n",
            "172/172 [==============================] - 13s 62ms/step - loss: 1.2449\n",
            "Epoch 10/20\n",
            "172/172 [==============================] - 14s 59ms/step - loss: 1.2068\n",
            "Epoch 11/20\n",
            "172/172 [==============================] - 14s 65ms/step - loss: 1.1663\n",
            "Epoch 12/20\n",
            "172/172 [==============================] - 13s 60ms/step - loss: 1.1261\n",
            "Epoch 13/20\n",
            "172/172 [==============================] - 14s 62ms/step - loss: 1.0831\n",
            "Epoch 14/20\n",
            "172/172 [==============================] - 13s 57ms/step - loss: 1.0379\n",
            "Epoch 15/20\n",
            "172/172 [==============================] - 12s 58ms/step - loss: 0.9900\n",
            "Epoch 16/20\n",
            "172/172 [==============================] - 12s 59ms/step - loss: 0.9389\n",
            "Epoch 17/20\n",
            "172/172 [==============================] - 12s 58ms/step - loss: 0.8883\n",
            "Epoch 18/20\n",
            "172/172 [==============================] - 13s 57ms/step - loss: 0.8349\n",
            "Epoch 19/20\n",
            "172/172 [==============================] - 12s 58ms/step - loss: 0.7838\n",
            "Epoch 20/20\n",
            "172/172 [==============================] - 12s 58ms/step - loss: 0.7367\n"
          ]
        }
      ]
    },
    {
      "cell_type": "markdown",
      "source": [
        "![image.png](data:image/png;base64,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)"
      ],
      "metadata": {
        "id": "M0AntVTf3Fw7"
      }
    },
    {
      "cell_type": "code",
      "source": [
        "class OneStep(tf.keras.Model):\n",
        "  def __init__(self, model, chars_from_ids, ids_from_chars, temperature=1.0):\n",
        "    super().__init__()\n",
        "    self.temperature = temperature\n",
        "    self.model = model\n",
        "    self.chars_from_ids = chars_from_ids\n",
        "    self.ids_from_chars = ids_from_chars\n",
        "\n",
        "    # Create a mask to prevent \"[UNK]\" from being generated.\n",
        "    skip_ids = self.ids_from_chars(['[UNK]'])[:, None]\n",
        "    sparse_mask = tf.SparseTensor(\n",
        "        # Put a -inf at each bad index.\n",
        "        values=[-float('inf')]*len(skip_ids),\n",
        "        indices=skip_ids,\n",
        "        # Match the shape to the vocabulary\n",
        "        dense_shape=[len(ids_from_chars.get_vocabulary())])\n",
        "    self.prediction_mask = tf.sparse.to_dense(sparse_mask)\n",
        "\n",
        "  @tf.function\n",
        "  def generate_one_step(self, inputs, states=None):\n",
        "    # Convert strings to token IDs.\n",
        "    input_chars = tf.strings.unicode_split(inputs, 'UTF-8')\n",
        "    input_ids = self.ids_from_chars(input_chars).to_tensor()\n",
        "\n",
        "    # Run the model.\n",
        "    # predicted_logits.shape is [batch, char, next_char_logits]\n",
        "    predicted_logits, states = self.model(inputs=input_ids, states=states,\n",
        "                                          return_state=True)\n",
        "    # Only use the last prediction.\n",
        "    predicted_logits = predicted_logits[:, -1, :]\n",
        "    predicted_logits = predicted_logits/self.temperature\n",
        "    # Apply the prediction mask: prevent \"[UNK]\" from being generated.\n",
        "    predicted_logits = predicted_logits + self.prediction_mask\n",
        "\n",
        "    # Sample the output logits to generate token IDs.\n",
        "    predicted_ids = tf.random.categorical(predicted_logits, num_samples=1)\n",
        "    predicted_ids = tf.squeeze(predicted_ids, axis=-1)\n",
        "\n",
        "    # Convert from token ids to characters\n",
        "    predicted_chars = self.chars_from_ids(predicted_ids)\n",
        "\n",
        "    # Return the characters and model state.\n",
        "    return predicted_chars, states"
      ],
      "metadata": {
        "id": "fD88NtwZ3Hnk"
      },
      "execution_count": null,
      "outputs": []
    },
    {
      "cell_type": "code",
      "source": [
        "one_step_model = OneStep(model, chars_from_ids, ids_from_chars)"
      ],
      "metadata": {
        "id": "I9xTNER23JIs"
      },
      "execution_count": null,
      "outputs": []
    },
    {
      "cell_type": "markdown",
      "source": [
        "Ejecútelo en un bucle para generar algo de texto. Mirando el texto generado, verá que el modelo sabe cuándo usar mayúsculas, hacer párrafos e imita un vocabulario de escritura similar al de Shakespeare. Con el pequeño número de épocas de entrenamiento, aún no ha aprendido a formar oraciones coherentes."
      ],
      "metadata": {
        "id": "z6pfJ1bW3Jvc"
      }
    },
    {
      "cell_type": "code",
      "source": [
        "start = time.time()\n",
        "states = None\n",
        "next_char = tf.constant(['ROMEO:'])\n",
        "result = [next_char]\n",
        "\n",
        "for n in range(1000):\n",
        "  next_char, states = one_step_model.generate_one_step(next_char, states=states)\n",
        "  result.append(next_char)\n",
        "\n",
        "result = tf.strings.join(result)\n",
        "end = time.time()\n",
        "print(result[0].numpy().decode('utf-8'), '\\n\\n' + '_'*80)\n",
        "print('\\nRun time:', end - start)"
      ],
      "metadata": {
        "colab": {
          "base_uri": "https://localhost:8080/"
        },
        "id": "Y5zuKwiU3LjJ",
        "outputId": "59788d5b-9948-4640-eb91-791aea9146c0"
      },
      "execution_count": null,
      "outputs": [
        {
          "output_type": "stream",
          "name": "stdout",
          "text": [
            "ROMEO:\n",
            "Ay, follow you.\n",
            "\n",
            "Provost:\n",
            "And, if the day is on unscur! and no man ever dam\n",
            "intents, impeachest disposition, by your own.\n",
            "What makes your daughter is Katharina learned.\n",
            "Courage! might dive this churt? do our mistress,\n",
            "Her suit resolve you left a man's wife is interpound xouls,\n",
            "But sunn you from whence is any in Vincenter\n",
            "As for my presence, where I must be, let's har\n",
            "behold his bastaph:--for he indeed: he is but a custom,\n",
            "But nathin be wild and will not see thee mother,\n",
            "Our high; go to Norfolk desire you:\n",
            "I'll follow you, sometimes this land of our incient,\n",
            "Neighbours nothing but in your high hath unreeded,\n",
            "Amence of napitor's threast, the father of thy soly.\n",
            "\n",
            "Nurse:\n",
            "\n",
            "Nurse:\n",
            "Nor I.\n",
            "\n",
            "CLARENCE:\n",
            "By the sentence of his name; he's gone to have.\n",
            "See, on her king indeed.\n",
            "\n",
            "DORSET:\n",
            "I thank you, good God, for whom I am in soul.\n",
            "Vake next our tiders and quit my plate to them as they\n",
            "did but one skill we his dear mornight-day,\n",
            "Death like a poolet am out of shall fold,\n",
            "accuse his eye, as if he do  \n",
            "\n",
            "________________________________________________________________________________\n",
            "\n",
            "Run time: 4.495539426803589\n"
          ]
        }
      ]
    },
    {
      "cell_type": "markdown",
      "source": [
        "Lo más fácil que puede hacer para mejorar los resultados es entrenarlo durante más tiempo (pruebe EPOCHS = 30 ).\n",
        "\n",
        "También puede experimentar con una cadena de inicio diferente, intente agregar otra capa RNN para mejorar la precisión del modelo o ajustar el parámetro de temperatura para generar predicciones más o menos aleatorias.\n",
        "\n",
        "Si desea que el modelo genere texto más rápido , lo más fácil que puede hacer es generar el texto por lotes. En el siguiente ejemplo, el modelo genera 5 salidas aproximadamente en el mismo tiempo que se tardó en generar 1 arriba"
      ],
      "metadata": {
        "id": "wMLuChED3N_0"
      }
    },
    {
      "cell_type": "code",
      "source": [
        "start = time.time()\n",
        "states = None\n",
        "next_char = tf.constant(['ROMEO:', 'ROMEO:', 'ROMEO:', 'ROMEO:', 'ROMEO:'])\n",
        "result = [next_char]\n",
        "\n",
        "for n in range(1000):\n",
        "  next_char, states = one_step_model.generate_one_step(next_char, states=states)\n",
        "  result.append(next_char)\n",
        "\n",
        "result = tf.strings.join(result)\n",
        "end = time.time()\n",
        "print(result, '\\n\\n' + '_'*80)\n",
        "print('\\nRun time:', end - start)"
      ],
      "metadata": {
        "colab": {
          "base_uri": "https://localhost:8080/"
        },
        "id": "Q9s01_CS3MoM",
        "outputId": "20496bcf-bbda-4630-b30a-4e63a36fe03d"
      },
      "execution_count": null,
      "outputs": [
        {
          "output_type": "stream",
          "name": "stdout",
          "text": [
            "tf.Tensor(\n",
            "[b\"ROMEO:\\nCome, sir, a noble and the queen's attend on here.\\n\\nHENRY BOLINGBROKE:\\nSweetly, have talk'd some house, in the reason\\nFor meech and now by gaunt: is it next,\\nYou had not-like bearing wonder of the whole,\\nLess imposed at grace and tales by me?\\n\\nRIVERS:\\nThen he shall close the market-place nor power to this.\\nFar we like in great turned.\\n\\nSICINIUS:\\nWas efter so, my lord:\\nWhat's your wife?\\n\\nPedant:\\nShe's year-blood upon a soldier's head, say.\\n\\nOXFORD:\\nIn traitor, Marcius, they learn crag-gold\\nnot what we warping me?\\n\\nBISHOP OF CALLLLY:\\nMy lord; why stay he hath appears nought:\\nBut elbow it was, or else twenty years,\\nAnd rike forgery all intolment. Come, come, go a deed.\\n\\nKING HENRY VI:\\nHave done thee speak briefly we are upon you all:\\nThe prince my father, or the throwers, rove,\\nUnder him o'clock?\\nWhere are those joy\\nNothing have nothing else beloved of;\\nYet, in the seench like aduet: may I change you, sir,\\nHe thinks it with a little supple. You, indeed--\\n\\nCOMINIUS:\\nTullus Aufidius then o\"\n",
            " b\"ROMEO:\\nGive me poor keal on the prince: that's your Jove,\\nWe shall be married to another men:\\nAnd, being resolutely Recovery hath!\\nO, as a fine hand, she shalls meet you in the middle.\\nGive our dancing days she kill,\\nFrom where he hath nothing else to accomplichery is\\nA school-tiding in-that hateful dump,\\nA kink of the basely finds these soon,\\nAs every land's eye gross sink. Look how,\\nTranio, thou vouches on the Duke of Signior Rutland?\\nLet me speak his name respected with in,\\nTwices are bitterpes; and, as she heard it\\nappearing wonder; in your distress'd groans!\\nDid not have to take her high?\\nHeaven lie is too high die forth, to thy love.\\nAs it was sought and unbraidled spirit!\\nWill't please your honour, I am funnible.\\nRather not, like a torch, in-full joy, it, royal,\\nRichance or how well purged night.\\nPeace, Clifford, dispatch.\\n\\nMENENIUS:\\nOne that shall not bark at sooth: he's a thousand strikes\\nStabb'd out what we throne dew, thy love, this way to assist?\\n\\nQUEEN EARES:\\nGood queen.\\n\\nGaTher\"\n",
            " b\"ROMEO:\\nGood my lord.\\n\\nKING RICHARD III:\\nBe plain thousand issue: what comfort hather\\nAgainst invicous a little world:\\nMy wife is no better than the indirt;\\nThen, speak to the king is here, but with\\na block depart? But if you fear'd?\\nYet one amazed me: I am his.\\n\\nYORK:\\nHis nature is out of Gloucester's death.\\n\\nNORTHUMBERLAND:\\nNone, said love, as when, if you will, tell me, for,--\\n\\nJULIET:\\nI am content: if you be remembered; and, sweet is too cruel\\nforgetrain to thanks. I have abjury\\nhangs upon time, sispeeding in the one as lect as age,\\nLevive forth their heart-place where when I am commented\\nAs will deceived into her eye.\\nCannot delivered this better nature mights\\nFrom colours with our goodness. I have seemeth not\\nmy coffly then, for you are quickly shall\\nHear themselves confess: who hath ancient haught for mine,\\nAnd nobleness impose: Richard, where it peace\\nI see she murders? forthwith I read it!\\n\\nLUCIO:\\nAy, a woman's gentleman that holds upon us,\\nOr when I shall come in peace with such a c\"\n",
            " b\"ROMEO:\\nI am grant busy in at once part; you may as good as we\\nLess fent above well in our moons and honesty\\nIs not your highness.\\n\\nFERWINGARET:\\nThis news, will you be remembered, cantage too?\\nOf how, yet was A brother, to the drunkard leave,\\nAs if I lose, from your senators, part,\\nDestruction go with you. We'll have the\\nknee-born in; and mark hom!\\nTrue-peacers, rung, much herelf indeed\\nAnd straight be impossible, or arrive his bosom.\\nYou are were enough, when he looks toangies mock?\\nWherefore I Pray dow. I will pray you, anon. God saving you this?\\nSouch lengther than him now, they say, is 't not safe,\\nTraised, he way here to-morrow! all dull were,\\nThe hearing of his life in this disdance,\\nOf can still benefit of a good quarter'd.\\nAnd then wild on thy witchcrment rule, Cleronous' when\\nWhich are unpointed to incoverest.\\n\\nDUCHESS OF YORK:\\nI will not have met.\\n\\nLARTIUS:\\nHe that is good to remove?\\n\\nROMEO:\\nNay, hence; and, sirrah, to himself in person.\\n\\nMENENIUS:\\nHere comes your subject, to yiel\\nT\"\n",
            " b\"ROMEO:\\nCan hear it?\\n\\nPAULINA:\\nFull of; sir, I do fell night.\\n\\nROMEO:\\nHeaven shall quick him for the devil should\\ndeceive the seal o' the power-stage,\\nA marmil's battle have been so stealth.\\nThe time hath sent to the wiseroas sword:\\nThen I do set up in her privatchmene, if\\nthe deep unlook'd and never to our holixard\\nthen hurl of happy in his repland Angelo.\\n\\nMIRABUTHAR:\\nA deadle wrong.\\n\\nKING RICHARD II:\\nNo, cousin Angelo?\\n\\nISABELLA:\\nConfess, he's browing wonder'd in:\\nOne kiss and gentlemen, at once proclaim'd\\nIntended at the loss, by thieves and\\nexile; our sun\\nKing Richard and for Rome is more than any other\\nI. Were I a child?\\n\\nPAULINA:\\nShall I bring you to your daughters,\\nUntil the service, to express myself\\nI cannot now, that she is to be found.\\n\\nISABELLA:\\nYou make haste, that we shall harn-barr'd him 'Ay.' alas!\\nBy heaven, be spoil the flattering time\\nA king, behold, and now by grief and dexiapes drunk?\\n\\nSecond Verversars, kindred over\\nTroy finds what stricts in words or two more sword!\\nFa\"], shape=(5,), dtype=string) \n",
            "\n",
            "________________________________________________________________________________\n",
            "\n",
            "Run time: 3.8875317573547363\n"
          ]
        }
      ]
    },
    {
      "cell_type": "markdown",
      "source": [
        "Exportar el generador"
      ],
      "metadata": {
        "id": "i_MGli5D3Rq0"
      }
    },
    {
      "cell_type": "markdown",
      "source": [
        "Este modelo de un solo paso se puede guardar y restaurar fácilmente, lo que le permite usarlo en cualquier lugar donde se acepte un tf.saved_model ."
      ],
      "metadata": {
        "id": "qQi84jxS3TZM"
      }
    },
    {
      "cell_type": "code",
      "source": [
        "tf.saved_model.save(one_step_model, 'one_step')\n",
        "one_step_reloaded = tf.saved_model.load('one_step')"
      ],
      "metadata": {
        "colab": {
          "base_uri": "https://localhost:8080/"
        },
        "id": "9pdFRLOO3U2F",
        "outputId": "dd00c4e8-5db9-40e6-df7f-e8fd5eb42fb0"
      },
      "execution_count": null,
      "outputs": [
        {
          "output_type": "stream",
          "name": "stderr",
          "text": [
            "WARNING:tensorflow:Skipping full serialization of Keras layer <__main__.OneStep object at 0x7f62000d5220>, because it is not built.\n",
            "WARNING:absl:Found untraced functions such as gru_cell_layer_call_fn, gru_cell_layer_call_and_return_conditional_losses while saving (showing 2 of 2). These functions will not be directly callable after loading.\n"
          ]
        }
      ]
    },
    {
      "cell_type": "code",
      "source": [
        "states = None\n",
        "next_char = tf.constant(['ROMEO:'])\n",
        "result = [next_char]\n",
        "\n",
        "for n in range(100):\n",
        "  next_char, states = one_step_reloaded.generate_one_step(next_char, states=states)\n",
        "  result.append(next_char)\n",
        "\n",
        "print(tf.strings.join(result)[0].numpy().decode(\"utf-8\"))"
      ],
      "metadata": {
        "colab": {
          "base_uri": "https://localhost:8080/"
        },
        "id": "EvECY30k3Vz_",
        "outputId": "9b063165-9825-490b-9e80-4da8008421ec"
      },
      "execution_count": null,
      "outputs": [
        {
          "output_type": "stream",
          "name": "stdout",
          "text": [
            "ROMEO:\n",
            "Knock the traitor, kneel doth kiscA: the duke a\n",
            "bely shadows of the Tower, of tackly: 'tis nooth, b\n"
          ]
        }
      ]
    },
    {
      "cell_type": "markdown",
      "source": [
        "###Avanzado: Entrenamiento Personalizado"
      ],
      "metadata": {
        "id": "AKBYZSpX3YOl"
      }
    },
    {
      "cell_type": "markdown",
      "source": [
        "l procedimiento de entrenamiento anterior es simple, pero no le da mucho control. Utiliza el maestro forzado que evita que las malas predicciones se retroalimenten al modelo, por lo que el modelo nunca aprende a recuperarse de los errores.\n",
        "\n",
        "Entonces, ahora que ha visto cómo ejecutar el modelo manualmente, ahora implementará el ciclo de entrenamiento. Esto brinda un punto de partida si, por ejemplo, desea implementar el aprendizaje del plan de estudios para ayudar a estabilizar la salida de bucle abierto del modelo.\n",
        "\n",
        "La parte más importante de un ciclo de entrenamiento personalizado es la función de paso de entrenamiento.\n",
        "\n",
        "Use tf.GradientTape para rastrear los degradados. Puede obtener más información sobre este enfoque leyendo la guía de ejecución ansiosa .\n",
        "\n",
        "El procedimiento básico es:\n",
        "\n",
        "\n",
        "\n",
        "1.   Ejecute el modelo y calcule la pérdida bajo un tf.GradientTape .\n",
        "2.   Calcule las actualizaciones y aplíquelas al modelo utilizando el optimizador.\n",
        "\n",
        "\n",
        "\n",
        "\n"
      ],
      "metadata": {
        "id": "NXtUlY2N3dMd"
      }
    },
    {
      "cell_type": "code",
      "source": [
        "class CustomTraining(MyModel):\n",
        "  @tf.function\n",
        "  def train_step(self, inputs):\n",
        "      inputs, labels = inputs\n",
        "      with tf.GradientTape() as tape:\n",
        "          predictions = self(inputs, training=True)\n",
        "          loss = self.loss(labels, predictions)\n",
        "      grads = tape.gradient(loss, model.trainable_variables)\n",
        "      self.optimizer.apply_gradients(zip(grads, model.trainable_variables))\n",
        "\n",
        "      return {'loss': loss}"
      ],
      "metadata": {
        "id": "F0I1Eqom3cuF"
      },
      "execution_count": null,
      "outputs": []
    },
    {
      "cell_type": "markdown",
      "source": [
        "La implementación anterior del método train_step sigue las convenciones train_step de Keras . Esto es opcional, pero le permite cambiar el comportamiento del paso de tren y seguir usando los métodos Model.compile y Model.fit de keras."
      ],
      "metadata": {
        "id": "At9llER13qO0"
      }
    },
    {
      "cell_type": "code",
      "source": [
        "model = CustomTraining(\n",
        "    vocab_size=len(ids_from_chars.get_vocabulary()),\n",
        "    embedding_dim=embedding_dim,\n",
        "    rnn_units=rnn_units)"
      ],
      "metadata": {
        "id": "gMUjILMP3rjM"
      },
      "execution_count": null,
      "outputs": []
    },
    {
      "cell_type": "code",
      "source": [
        "model.compile(optimizer = tf.keras.optimizers.Adam(),\n",
        "              loss=tf.keras.losses.SparseCategoricalCrossentropy(from_logits=True))"
      ],
      "metadata": {
        "id": "Eks9e6qR3sy-"
      },
      "execution_count": null,
      "outputs": []
    },
    {
      "cell_type": "code",
      "source": [
        "model.fit(dataset, epochs=1)"
      ],
      "metadata": {
        "id": "7031hufq3twF"
      },
      "execution_count": null,
      "outputs": []
    },
    {
      "cell_type": "markdown",
      "source": [
        "O si necesita más control, puede escribir su propio ciclo de entrenamiento personalizado completo:"
      ],
      "metadata": {
        "id": "gW2WVNo-3v_s"
      }
    },
    {
      "cell_type": "code",
      "source": [
        "EPOCHS = 10\n",
        "\n",
        "mean = tf.metrics.Mean()\n",
        "\n",
        "for epoch in range(EPOCHS):\n",
        "    start = time.time()\n",
        "\n",
        "    mean.reset_states()\n",
        "    for (batch_n, (inp, target)) in enumerate(dataset):\n",
        "        logs = model.train_step([inp, target])\n",
        "        mean.update_state(logs['loss'])\n",
        "\n",
        "        if batch_n % 50 == 0:\n",
        "            template = f\"Epoch {epoch+1} Batch {batch_n} Loss {logs['loss']:.4f}\"\n",
        "            print(template)\n",
        "\n",
        "    # saving (checkpoint) the model every 5 epochs\n",
        "    if (epoch + 1) % 5 == 0:\n",
        "        model.save_weights(checkpoint_prefix.format(epoch=epoch))\n",
        "\n",
        "    print()\n",
        "    print(f'Epoch {epoch+1} Loss: {mean.result().numpy():.4f}')\n",
        "    print(f'Time taken for 1 epoch {time.time() - start:.2f} sec')\n",
        "    print(\"_\"*80)\n",
        "\n",
        "model.save_weights(checkpoint_prefix.format(epoch=epoch))"
      ],
      "metadata": {
        "id": "BmMBJMe73w9k"
      },
      "execution_count": null,
      "outputs": []
    }
  ]
}